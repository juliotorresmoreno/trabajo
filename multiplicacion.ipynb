{
 "cells": [
  {
   "cell_type": "code",
   "execution_count": 568,
   "metadata": {},
   "outputs": [],
   "source": [
    "num1 = '63756253825375019126875'\n",
    "num2 = '37501912687563756253825'"
   ]
  },
  {
   "cell_type": "code",
   "execution_count": 147,
   "metadata": {},
   "outputs": [],
   "source": [
    "def retoca(x, l):\n",
    "    for i in range(l):\n",
    "        x = x + '0'\n",
    "    return x"
   ]
  },
  {
   "cell_type": "code",
   "execution_count": 154,
   "metadata": {},
   "outputs": [],
   "source": [
    "def retoca2(x, l):\n",
    "    for i in range(l):\n",
    "        x = '0' + x\n",
    "    return x"
   ]
  },
  {
   "cell_type": "code",
   "execution_count": 571,
   "metadata": {},
   "outputs": [
    {
     "name": "stdout",
     "output_type": "stream",
     "text": [
      "6375625\n"
     ]
    },
    {
     "data": {
      "text/plain": [
       "6375625"
      ]
     },
     "execution_count": 571,
     "metadata": {},
     "output_type": "execute_result"
    }
   ],
   "source": [
    "def sumar(x):  \n",
    "    r = []\n",
    "    l = len(x)\n",
    "    for i in range(l):\n",
    "        v = str(x[i])\n",
    "        v = retoca(v, l - i - 1)\n",
    "        if i == 0:\n",
    "            v = retoca2(v, i)\n",
    "        else:\n",
    "            w = len(str(r[0]))\n",
    "            v = retoca2(v, w - len(v))\n",
    "        r.append(v)\n",
    "    v = r[0]\n",
    "    o = ''\n",
    "    resto = 0\n",
    "    for i in range(len(v)):\n",
    "        t = len(v)-i-1\n",
    "        s = 0\n",
    "        for j in range(len(x)):\n",
    "            a = s + int(r[j][t]) + resto\n",
    "            resto = 0\n",
    "            s = a\n",
    "            if j == len(x)-1:\n",
    "                if s > 9 and i < len(v) - 1:\n",
    "                    d = str(s)\n",
    "                    s = int(d[len(d)-1])\n",
    "                    resto = int(d[:len(d)-1])\n",
    "                    \n",
    "        o = str(s) + o\n",
    "    return o\n",
    "#180\n",
    "#036\n",
    "#print(sumar([0, 12]))\n",
    "#print(sumar([12, 18]))\n",
    "#print(sumar(['108', '72']))\n",
    "#print(sumar(['50', '125']))\n",
    "\n",
    "print(sumar(['5050', '12625', '5050','12625'])) #, '5050', '12625'\n",
    "5050000+1262500+50500+12625\n",
    "\n",
    "#505000\n",
    "#126250\n",
    "#005050"
   ]
  },
  {
   "cell_type": "code",
   "execution_count": 572,
   "metadata": {},
   "outputs": [
    {
     "data": {
      "text/plain": [
       "'2390981464245366699141530471671829772379046875'"
      ]
     },
     "execution_count": 572,
     "metadata": {},
     "output_type": "execute_result"
    }
   ],
   "source": [
    "def multiplica(num1, num2):\n",
    "    num1r = reversed(num1)\n",
    "    num2r = reversed(num2)\n",
    "    result = []\n",
    "    for j in range(len(num2)):\n",
    "        temp = []\n",
    "        inc = 0\n",
    "        for i in range(len(num1)):\n",
    "            x = num1[len(num1)-i-1]\n",
    "            y = num2[len(num2)-j-1]\n",
    "            r = str(int(x)*int(y) + inc)\n",
    "            temp.insert(0, r)\n",
    "        \n",
    "        result.insert(0, sumar(temp))\n",
    "    \n",
    "    return sumar(result)\n"
   ]
  },
  {
   "cell_type": "code",
   "execution_count": 573,
   "metadata": {},
   "outputs": [
    {
     "data": {
      "text/plain": [
       "'2390981464245366699141530471671829772379046875'"
      ]
     },
     "execution_count": 573,
     "metadata": {},
     "output_type": "execute_result"
    }
   ],
   "source": [
    "multiplica(num1, num2)"
   ]
  },
  {
   "cell_type": "code",
   "execution_count": null,
   "metadata": {},
   "outputs": [],
   "source": []
  }
 ],
 "metadata": {
  "kernelspec": {
   "display_name": "Python 3",
   "language": "python",
   "name": "python3"
  },
  "language_info": {
   "codemirror_mode": {
    "name": "ipython",
    "version": 3
   },
   "file_extension": ".py",
   "mimetype": "text/x-python",
   "name": "python",
   "nbconvert_exporter": "python",
   "pygments_lexer": "ipython3",
   "version": "3.6.5"
  }
 },
 "nbformat": 4,
 "nbformat_minor": 2
}
